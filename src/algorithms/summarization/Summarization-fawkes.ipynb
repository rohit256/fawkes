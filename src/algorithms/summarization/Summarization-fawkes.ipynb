{
 "cells": [
  {
   "cell_type": "code",
   "execution_count": 19,
   "metadata": {},
   "outputs": [],
   "source": [
    "corpus = [\n",
    "           'I have for a while now really only used Mint for an aggregator of my transactions and balances due to not using exact numbers but now they appear to have taken that away from the account balances too. Mint is good for people who are bad at budgeting but there are a lot better ways to budget',\n",
    "           'Why does the new app round up the account balance rather than show the exact amount now? The balance on every account is to the next dollar higher rather than to the exact penny the version before.  Accuracy is important.   This is a bad feature on the new update',\n",
    "           'The recent upgrade doesn’t show actual amounts in accounts. It rounds to the nearest dollar.',\n",
    "           'The app does what its supposed to do. Need an uplift in the UI. Basically the colors look really dull. Also need options to create and manage new categories.',\n",
    "           'Two hours of trying to delete this account and it is not working. I followed the online instructions but the link did not work, tried from inside the account, talked to chat support but she couldn’t figure it out, now I am on the phone AGAIN hoping for a miracle which is unlikely since I am told there are many people having problems with the app',\n",
    "           'I have only had the app for 2 days, and it is already not working. I am trying to add a transaction, but it says “Unable to connect to server.” Everything else is working fine on my phone.',\n",
    "           'Used to work great. Now it says “uhoh can’t connect to the server” even though it obviously can since it loads new transactions. Much much slower than before. Can’t see accounts because pressing anywhere in that area automatically loads their new net worth chart'\n",
    "]"
   ]
  },
  {
   "cell_type": "code",
   "execution_count": 20,
   "metadata": {},
   "outputs": [],
   "source": [
    "import nltk\n",
    "import nltk.data\n",
    "tokenizer = nltk.data.load('tokenizers/punkt/english.pickle')"
   ]
  },
  {
   "cell_type": "code",
   "execution_count": 22,
   "metadata": {},
   "outputs": [
    {
     "name": "stdout",
     "output_type": "stream",
     "text": [
      "['I have for a while now really only used Mint for an aggregator of my transactions and balances due to not using exact numbers but now they appear to have taken that away from the account balances too.', 'Mint is good for people who are bad at budgeting but there are a lot better ways to budget', 'Why does the new app round up the account balance rather than show the exact amount now?', 'The balance on every account is to the next dollar higher rather than to the exact penny the version before.', 'The recent upgrade doesn’t show actual amounts in accounts. It rounds to the nearest dollar.', 'Need an uplift in the UI.', 'Also need options to create and manage new categories.', 'Two hours of trying to delete this account and it is not working.', 'I followed the online instructions but the link did not work, tried from inside the account, talked to chat support but she couldn’t figure it out, now I am on the phone AGAIN hoping for a miracle which is unlikely since I am told there are many people having problems with the app', 'I have only had the app for 2 days, and it is already not working. I am trying to add a transaction, but it says “Unable to connect to server.” Everything else is working fine on my phone.', 'Now it says “uhoh can’t connect to the server” even though it obviously can since it loads new transactions.', 'Can’t see accounts because pressing anywhere in that area automatically loads their new net worth chart'] 12\n"
     ]
    }
   ],
   "source": [
    "'''\n",
    "Code to preprocess the data, break the reviews into sentences \n",
    "in case words > max_allowed_words in a sentence OR \n",
    "number of sentences > max allowed sentences in a sentence\n",
    "'''\n",
    "\n",
    "\n",
    "#https://github.com/summanlp/textrank\n",
    "from summa import keywords\n",
    "from summa.summarizer import summarize\n",
    "\n",
    "sentences=[]\n",
    "max_words_in_sentence= 50\n",
    "max_lines_in_sentence= 3\n",
    "\n",
    "summarized_sentences=[]\n",
    "\n",
    "for review in corpus:\n",
    "    line_count = len(tokenizer.tokenize(review))\n",
    "    temp_sentence=[]\n",
    "    \n",
    "    if(line_count>=max_lines_in_sentence):\n",
    "        \n",
    "        temp=summarize(review,2/line_count).split('\\n')\n",
    "        temp_sentence.extend(temp)\n",
    "    else:\n",
    "        temp_sentence.append(review)\n",
    "\n",
    "    for sentence in temp_sentence:\n",
    "        word_count = len(sentence.split())\n",
    "        if(word_count>=max_words_in_sentence):\n",
    "            summarized_sentences.extend(summarize(review,max_words_in_sentence).split('\\n'))\n",
    "        else:\n",
    "            summarized_sentences.append(sentence)\n",
    "                    \n",
    "print(summarized_sentences)        \n",
    "print(len(summarized_sentences))"
   ]
  },
  {
   "cell_type": "code",
   "execution_count": 46,
   "metadata": {},
   "outputs": [
    {
     "name": "stdout",
     "output_type": "stream",
     "text": [
      "I have for a while now really only used Mint for an aggregator of my transactions and balances due to not using exact numbers but now they appear to have taken that away from the account balances too. -- 2\n",
      "Mint is good for people who are bad at budgeting but there are a lot better ways to budget -- 2\n",
      "Why does the new app round up the account balance rather than show the exact amount now? -- 2\n",
      "The balance on every account is to the next dollar higher rather than to the exact penny the version before. -- 2\n",
      "The recent upgrade doesn’t show actual amounts in accounts. It rounds to the nearest dollar. -- 2\n",
      "Need an uplift in the UI. -- 0\n",
      "Also need options to create and manage new categories. -- 0\n",
      "Two hours of trying to delete this account and it is not working. -- 1\n",
      "I followed the online instructions but the link did not work, tried from inside the account, talked to chat support but she couldn’t figure it out, now I am on the phone AGAIN hoping for a miracle which is unlikely since I am told there are many people having problems with the app -- 1\n",
      "I have only had the app for 2 days, and it is already not working. I am trying to add a transaction, but it says “Unable to connect to server.” Everything else is working fine on my phone. -- 1\n",
      "Now it says “uhoh can’t connect to the server” even though it obviously can since it loads new transactions. -- 1\n",
      "Can’t see accounts because pressing anywhere in that area automatically loads their new net worth chart -- 2\n"
     ]
    }
   ],
   "source": [
    "#https://github.com/UKPLab/sentence-transformers\n",
    "num_clusters = 3\n",
    "from sentence_transformers import SentenceTransformer\n",
    "\n",
    "embedder = SentenceTransformer('distilbert-base-nli-stsb-mean-tokens')\n",
    "corpus_embeddings = embedder.encode(summarized_sentences)\n",
    "from sklearn.cluster import KMeans\n",
    "\n",
    "clustering_model = KMeans(n_clusters=num_clusters)\n",
    "clustering_model\n",
    "clustering_model.fit(corpus_embeddings)\n",
    "cluster_assignment = clustering_model.labels_\n",
    "\n",
    "for i in range(len(summarized_sentences)):\n",
    "    print(str(summarized_sentences[i])+\" -- \"+str(cluster_assignment[i]))\n"
   ]
  },
  {
   "cell_type": "code",
   "execution_count": 47,
   "metadata": {},
   "outputs": [
    {
     "name": "stdout",
     "output_type": "stream",
     "text": [
      "{0: ['Need an uplift in the UI.', 'Also need options to create and manage new categories.'], 1: ['Two hours of trying to delete this account and it is not working.', 'I followed the online instructions but the link did not work, tried from inside the account, talked to chat support but she couldn’t figure it out, now I am on the phone AGAIN hoping for a miracle which is unlikely since I am told there are many people having problems with the app', 'I have only had the app for 2 days, and it is already not working. I am trying to add a transaction, but it says “Unable to connect to server.” Everything else is working fine on my phone.', 'Now it says “uhoh can’t connect to the server” even though it obviously can since it loads new transactions.'], 2: ['I have for a while now really only used Mint for an aggregator of my transactions and balances due to not using exact numbers but now they appear to have taken that away from the account balances too.', 'Mint is good for people who are bad at budgeting but there are a lot better ways to budget', 'Why does the new app round up the account balance rather than show the exact amount now?', 'The balance on every account is to the next dollar higher rather than to the exact penny the version before.', 'The recent upgrade doesn’t show actual amounts in accounts. It rounds to the nearest dollar.', 'Can’t see accounts because pressing anywhere in that area automatically loads their new net worth chart']}\n"
     ]
    }
   ],
   "source": [
    "clustered_sentences = {new_list: [] for new_list in range(num_clusters)} \n",
    "for i in range(len(cluster_assignment)):\n",
    "    temp_list= clustered_sentences[cluster_assignment[i]]\n",
    "    temp_list.append(summarized_sentences[i])\n",
    "    clustered_sentences[cluster_assignment[i]]=temp_list\n",
    "    \n",
    "print(clustered_sentences)"
   ]
  },
  {
   "cell_type": "code",
   "execution_count": 49,
   "metadata": {},
   "outputs": [
    {
     "name": "stderr",
     "output_type": "stream",
     "text": [
      "[nltk_data] Downloading package punkt to /Users/rjain13/nltk_data...\n",
      "[nltk_data]   Package punkt is already up-to-date!\n",
      "[nltk_data] Downloading package stopwords to\n",
      "[nltk_data]     /Users/rjain13/nltk_data...\n",
      "[nltk_data]   Package stopwords is already up-to-date!\n"
     ]
    }
   ],
   "source": [
    "nltk.download('punkt')\n",
    "nltk.download('stopwords')\n",
    "import numpy as np\n",
    "import pandas as pd\n",
    "from nltk.corpus import stopwords\n",
    "stop_words = stopwords.words('english')"
   ]
  },
  {
   "cell_type": "code",
   "execution_count": 55,
   "metadata": {},
   "outputs": [],
   "source": [
    "def remove_stopwords(sen):\n",
    "    sen_new = \" \".join([i for i in sen if i not in stop_words])\n",
    "    return sen_new\n",
    "\n",
    "from sklearn.metrics.pairwise import cosine_similarity\n",
    "import matplotlib.pyplot as plt\n",
    "import networkx as nx\n",
    "\n",
    "\n",
    "word_embeddings = {}\n",
    "f = open('./glove.6B/glove.6B.100d.txt', encoding='utf-8')\n",
    "for line in f:\n",
    "    values = line.split()\n",
    "    word = values[0]\n",
    "    coefs = np.asarray(values[1:], dtype='float32')\n",
    "    word_embeddings[word] = coefs\n",
    "f.close()\n"
   ]
  },
  {
   "cell_type": "code",
   "execution_count": 75,
   "metadata": {},
   "outputs": [
    {
     "name": "stdout",
     "output_type": "stream",
     "text": [
      "['need uplift ui.', 'also need options create manage new categories.']\n",
      "\n",
      "0 : Need an uplift in the UI.\n",
      "1 : Also need options to create and manage new categories.\n",
      "\n",
      "----------********----------\n",
      "\n",
      "['two hours trying delete account working.', 'followed online instructions link work, tried inside account, talked chat support couldn’t figure out, phone hoping miracle unlikely since told many people problems app', 'app 2 days, already working. trying add transaction, says “unable connect server.” everything else working fine phone.', 'says “uhoh can’t connect server” even though obviously since loads new transactions.']\n",
      "\n",
      "0 : I followed the online instructions but the link did not work, tried from inside the account, talked to chat support but she couldn’t figure it out, now I am on the phone AGAIN hoping for a miracle which is unlikely since I am told there are many people having problems with the app\n",
      "1 : I have only had the app for 2 days, and it is already not working. I am trying to add a transaction, but it says “Unable to connect to server.” Everything else is working fine on my phone.\n",
      "\n",
      "----------********----------\n",
      "\n",
      "['really used mint aggregator transactions balances due using exact numbers appear taken away account balances too.', 'mint good people bad budgeting lot better ways budget', 'new app round account balance rather show exact amount now?', 'balance every account next dollar higher rather exact penny version before.', 'recent upgrade doesn’t show actual amounts accounts. rounds nearest dollar.', 'can’t see accounts pressing anywhere area automatically loads new net worth chart']\n",
      "\n",
      "0 : Why does the new app round up the account balance rather than show the exact amount now?\n",
      "1 : The balance on every account is to the next dollar higher rather than to the exact penny the version before.\n",
      "\n",
      "----------********----------\n",
      "\n"
     ]
    }
   ],
   "source": [
    "#https://github.com/rohitkgp34/Text-Summarization\n",
    "for var in range(num_clusters):\n",
    "    clean_sentences = [s.lower() for s in clustered_sentences[var]]\n",
    "    clean_sentences = [remove_stopwords(r.split()) for r in clean_sentences]\n",
    "    \n",
    "    print(clean_sentences)\n",
    "    print()\n",
    "    sentence_vectors = []\n",
    "    for i in clean_sentences:\n",
    "        if len(i) != 0:\n",
    "            v = sum([word_embeddings.get(w, np.zeros((100,))) for w in i.split()])/(len(i.split())+0.001)\n",
    "        else:\n",
    "            v = np.zeros((100,))\n",
    "        \n",
    "        sentence_vectors.append(v)\n",
    "    \n",
    "    sim_mat = np.zeros([len(clustered_sentences[var]), len(clustered_sentences[var])])\n",
    "    for i in range(len(clustered_sentences[var])):\n",
    "        for j in range(len(clustered_sentences[var])):\n",
    "            if i != j:\n",
    "                sim_mat[i][j] = cosine_similarity(sentence_vectors[i].reshape(1,100), sentence_vectors[j].reshape(1,100))[0,0]\n",
    "\n",
    "    nx_graph = nx.from_numpy_array(sim_mat)\n",
    "    scores = nx.pagerank(nx_graph)\n",
    "\n",
    "    ranked_sentences = sorted(((scores[i],s) for i,s in enumerate(clustered_sentences[var])), reverse=True)\n",
    "\n",
    "    for i in range(2):\n",
    "        print(i,\":\",ranked_sentences[i][1])\n",
    "\n",
    "    print()\n",
    "    print(\"----------********----------\")\n",
    "    print()\n",
    "    \n"
   ]
  },
  {
   "cell_type": "code",
   "execution_count": null,
   "metadata": {},
   "outputs": [],
   "source": []
  }
 ],
 "metadata": {
  "kernelspec": {
   "display_name": "Python 3",
   "language": "python",
   "name": "python3"
  },
  "language_info": {
   "codemirror_mode": {
    "name": "ipython",
    "version": 3
   },
   "file_extension": ".py",
   "mimetype": "text/x-python",
   "name": "python",
   "nbconvert_exporter": "python",
   "pygments_lexer": "ipython3",
   "version": "3.7.7"
  }
 },
 "nbformat": 4,
 "nbformat_minor": 4
}
