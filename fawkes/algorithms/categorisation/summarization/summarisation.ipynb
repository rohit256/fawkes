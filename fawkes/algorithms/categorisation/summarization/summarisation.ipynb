{
 "cells": [
  {
   "cell_type": "code",
   "execution_count": 32,
   "metadata": {},
   "outputs": [],
   "source": [
    "import sys\n",
    "import os\n",
    "\n",
    "#Add the path from where src is available OR change it to `sys.path.append(os.path.realpath(\".\"))`\n",
    "if '../../../' not in sys.path:\n",
    "    sys.path.insert(0,'../../../')\n",
    "    \n",
    "from src.algorithms.sentiment import get_sentiment"
   ]
  },
  {
   "cell_type": "code",
   "execution_count": 70,
   "metadata": {},
   "outputs": [],
   "source": [
    "corpus = ['I have for a while now really only used Mint for an aggregator of my transactions and balances due to not using exact numbers but now they appear to have taken that away from the account balances too. Mint is good for people who are bad at budgeting but there are a lot better ways to budget',\n",
    "           'Why does the new app round up the account balance rather than show the exact amount now? The balance on every account is to the next dollar higher rather than to the exact penny the version before.  Accuracy is important.   This is a bad feature on the new update',\n",
    "           'The recent upgrade doesn’t show actual amounts in accounts. It rounds to the nearest dollar.',\n",
    "           'The app does what its supposed to do. Need an uplift in the UI. Basically the colors look really dull. Also need options to create and manage new categories.',\n",
    "           'Two hours of trying to delete this account and it is not working. I followed the online instructions but the link did not work, tried from inside the account, talked to chat support but she couldn’t figure it out, now I am on the phone AGAIN hoping for a miracle which is unlikely since I am told there are many people having problems with the app',\n",
    "         'I have only had the app for 2 days, and it is already not working. I am trying to add a transaction, but it says “Unable to connect to server.” Everything else is working fine on my phone.',\n",
    "         'Used to work great. Now it says “uhoh can’t connect to the server” even though it obviously can since it loads new transactions. Much much slower than before. Can’t see accounts because pressing anywhere in that area automatically loads their new net worth chart']"
   ]
  },
  {
   "cell_type": "code",
   "execution_count": 75,
   "metadata": {},
   "outputs": [
    {
     "name": "stdout",
     "output_type": "stream",
     "text": [
      "0 I have for a while now really only used Mint for an aggregator of my transactions and balances due to not using exact numbers but now they appear to have taken that away from the account balances too.\n",
      "1 Mint is good for people who are bad at budgeting but there are a lot better ways to budget\n",
      "2 Why does the new app round up the account balance rather than show the exact amount now?\n",
      "3 The balance on every account is to the next dollar higher rather than to the exact penny the version before.\n",
      "4 Accuracy is important.\n",
      "5 This is a bad feature on the new update\n",
      "6 The recent upgrade doesn’t show actual amounts in accounts.\n",
      "7 It rounds to the nearest dollar.\n",
      "8 The app does what its supposed to do.\n",
      "9 Need an uplift in the UI.\n",
      "10 Basically the colors look really dull.\n",
      "11 Also need options to create and manage new categories.\n",
      "12 Two hours of trying to delete this account and it is not working.\n",
      "13 I followed the online instructions but the link did not work, tried from inside the account, talked to chat support but she couldn’t figure it out, now I am on the phone AGAIN hoping for a miracle which is unlikely since I am told there are many people having problems with the app\n",
      "14 I have only had the app for 2 days, and it is already not working.\n",
      "15 I am trying to add a transaction, but it says “Unable to connect to server.” Everything else is working fine on my phone.\n",
      "16 Used to work great.\n",
      "17 Now it says “uhoh can’t connect to the server” even though it obviously can since it loads new transactions.\n",
      "18 Much much slower than before.\n",
      "19 Can’t see accounts because pressing anywhere in that area automatically loads their new net worth chart\n"
     ]
    }
   ],
   "source": [
    "import nltk\n",
    "import nltk.data\n",
    "tokenizer = nltk.data.load('tokenizers/punkt/english.pickle')\n",
    "tokenized_corpus=[]\n",
    "num=0\n",
    "for i in corpus:\n",
    "    temp_list= tokenizer.tokenize(i) #use better way\n",
    "    for j in temp_list:\n",
    "        tokenized_corpus.append(j)\n",
    "        print(str(num)+\" \"+j)\n",
    "        num=num+1\n",
    "\n",
    "# print(tokenized_corpus)\n",
    "# print(len(tokenized_corpus))\n",
    "\n",
    "\n",
    "#We lose the importance of few sentences here. can i use text summarizer here to reduce the length of sentences ? "
   ]
  },
  {
   "cell_type": "code",
   "execution_count": 36,
   "metadata": {},
   "outputs": [
    {
     "name": "stderr",
     "output_type": "stream",
     "text": [
      "[nltk_data] Downloading package punkt to /Users/rjain13/nltk_data...\n",
      "[nltk_data]   Unzipping tokenizers/punkt.zip.\n"
     ]
    },
    {
     "data": {
      "text/plain": [
       "True"
      ]
     },
     "execution_count": 36,
     "metadata": {},
     "output_type": "execute_result"
    }
   ],
   "source": [
    "nltk.download('punkt')"
   ]
  },
  {
   "cell_type": "code",
   "execution_count": 37,
   "metadata": {},
   "outputs": [
    {
     "name": "stderr",
     "output_type": "stream",
     "text": [
      "[nltk_data] Downloading package stopwords to\n",
      "[nltk_data]     /Users/rjain13/nltk_data...\n",
      "[nltk_data]   Package stopwords is already up-to-date!\n"
     ]
    },
    {
     "data": {
      "text/plain": [
       "True"
      ]
     },
     "execution_count": 37,
     "metadata": {},
     "output_type": "execute_result"
    }
   ],
   "source": [
    "nltk.download('stopwords')"
   ]
  },
  {
   "cell_type": "code",
   "execution_count": 42,
   "metadata": {},
   "outputs": [],
   "source": [
    "# wget http://nlp.stanford.edu/data/glove.6B.zip\n",
    "import numpy as np\n",
    "import pandas as pd"
   ]
  },
  {
   "cell_type": "code",
   "execution_count": 46,
   "metadata": {},
   "outputs": [
    {
     "data": {
      "text/plain": [
       "['really used mint aggregator transactions balances due using exact numbers appear taken away account balances too.',\n",
       " 'mint good people bad budgeting lot better ways budget',\n",
       " 'new app round account balance rather show exact amount now?',\n",
       " 'balance every account next dollar higher rather exact penny version before.',\n",
       " 'accuracy important.']"
      ]
     },
     "execution_count": 46,
     "metadata": {},
     "output_type": "execute_result"
    }
   ],
   "source": [
    "# tokenized_corpus[:5]\n",
    "\n",
    "clean_sentences = [s.lower() for s in tokenized_corpus]\n",
    "\n",
    "from nltk.corpus import stopwords\n",
    "stop_words = stopwords.words('english')\n",
    "\n",
    "\n",
    "def remove_stopwords(sen):\n",
    "    sen_new = \" \".join([i for i in sen if i not in stop_words])\n",
    "    return sen_new\n",
    "\n",
    "clean_sentences = [remove_stopwords(r.split()) for r in clean_sentences]\n",
    "clean_sentences[:5]\n"
   ]
  },
  {
   "cell_type": "code",
   "execution_count": 49,
   "metadata": {},
   "outputs": [],
   "source": [
    "word_embeddings = {}\n",
    "f = open('./glove.6B/glove.6B.100d.txt', encoding='utf-8')\n",
    "for line in f:\n",
    "    values = line.split()\n",
    "    word = values[0]\n",
    "    coefs = np.asarray(values[1:], dtype='float32')\n",
    "    word_embeddings[word] = coefs\n",
    "f.close()"
   ]
  },
  {
   "cell_type": "code",
   "execution_count": 50,
   "metadata": {},
   "outputs": [],
   "source": [
    "sentence_vectors = []\n",
    "for i in clean_sentences:\n",
    "    if len(i) != 0:\n",
    "        v = sum([word_embeddings.get(w, np.zeros((100,))) for w in i.split()])/(len(i.split())+0.001)\n",
    "    else:\n",
    "        v = np.zeros((100,))\n",
    "    sentence_vectors.append(v)\n"
   ]
  },
  {
   "cell_type": "code",
   "execution_count": 51,
   "metadata": {},
   "outputs": [
    {
     "data": {
      "text/plain": [
       "(100,)"
      ]
     },
     "execution_count": 51,
     "metadata": {},
     "output_type": "execute_result"
    }
   ],
   "source": [
    "sentence_vectors[0].shape\n"
   ]
  },
  {
   "cell_type": "code",
   "execution_count": 53,
   "metadata": {},
   "outputs": [],
   "source": [
    "#similarity matrix\n",
    "sim_mat = np.zeros([len(tokenized_corpus), len(tokenized_corpus)])\n"
   ]
  },
  {
   "cell_type": "code",
   "execution_count": 54,
   "metadata": {},
   "outputs": [],
   "source": [
    "from sklearn.metrics.pairwise import cosine_similarity\n"
   ]
  },
  {
   "cell_type": "code",
   "execution_count": 55,
   "metadata": {},
   "outputs": [],
   "source": [
    "for i in range(len(tokenized_corpus)):\n",
    "    for j in range(len(tokenized_corpus)):\n",
    "        if i != j:\n",
    "            sim_mat[i][j] = cosine_similarity(sentence_vectors[i].reshape(1,100), sentence_vectors[j].reshape(1,100))[0,0]\n"
   ]
  },
  {
   "cell_type": "code",
   "execution_count": 78,
   "metadata": {},
   "outputs": [
    {
     "data": {
      "text/plain": [
       "array([[0.        , 0.81012792, 0.91362006, 0.88630339, 0.48519017,\n",
       "        0.76244778, 0.8704305 , 0.43990685, 0.59698878, 0.5642635 ,\n",
       "        0.72084478, 0.83275762, 0.82859927, 0.83512511, 0.6827445 ,\n",
       "        0.78746461, 0.82302333, 0.84912189, 0.7383407 , 0.89015017],\n",
       "       [0.81012792, 0.        , 0.83306258, 0.83325679, 0.36359519,\n",
       "        0.79590702, 0.78337614, 0.38127525, 0.55269596, 0.69447734,\n",
       "        0.82236877, 0.84262656, 0.74974163, 0.82015941, 0.61985838,\n",
       "        0.87639089, 0.74758338, 0.86192588, 0.79602204, 0.80620878],\n",
       "       [0.91362006, 0.83306258, 0.        , 0.93074381, 0.47120345,\n",
       "        0.83892736, 0.9148176 , 0.48616387, 0.67083821, 0.61517096,\n",
       "        0.72704985, 0.868679  , 0.83235071, 0.87028904, 0.7614577 ,\n",
       "        0.81306136, 0.7882218 , 0.87345995, 0.76841266, 0.89918647],\n",
       "       [0.88630339, 0.83325679, 0.93074381, 0.        , 0.42428283,\n",
       "        0.78072963, 0.8748894 , 0.45856297, 0.55637585, 0.59035111,\n",
       "        0.7094066 , 0.81513607, 0.79041385, 0.81721913, 0.68196825,\n",
       "        0.78477995, 0.74355758, 0.84119817, 0.82062508, 0.88626823],\n",
       "       [0.48519017, 0.36359519, 0.47120345, 0.42428283, 0.        ,\n",
       "        0.31786524, 0.4631392 , 0.26149129, 0.30882007, 0.29951153,\n",
       "        0.29900017, 0.29502301, 0.34952706, 0.3253073 , 0.27331664,\n",
       "        0.30815094, 0.36094444, 0.34883604, 0.42790206, 0.36009734],\n",
       "       [0.76244778, 0.79590702, 0.83892736, 0.78072963, 0.31786524,\n",
       "        0.        , 0.80733867, 0.36345532, 0.61771835, 0.5334832 ,\n",
       "        0.69657504, 0.82440051, 0.75579566, 0.80076089, 0.70975301,\n",
       "        0.74460742, 0.73326847, 0.82712811, 0.66628045, 0.78061502],\n",
       "       [0.8704305 , 0.78337614, 0.9148176 , 0.8748894 , 0.4631392 ,\n",
       "        0.80733867, 0.        , 0.41170531, 0.56224518, 0.61006565,\n",
       "        0.66160592, 0.82898219, 0.76512541, 0.82510723, 0.65551782,\n",
       "        0.76307283, 0.79245107, 0.84210476, 0.78322904, 0.84666195],\n",
       "       [0.43990685, 0.38127525, 0.48616387, 0.45856297, 0.26149129,\n",
       "        0.36345532, 0.41170531, 0.        , 0.30542013, 0.20223945,\n",
       "        0.3041799 , 0.36887461, 0.50864481, 0.47343227, 0.43409364,\n",
       "        0.38942525, 0.38121504, 0.45325538, 0.39882422, 0.50447945],\n",
       "       [0.59698878, 0.55269596, 0.67083821, 0.55637585, 0.30882007,\n",
       "        0.61771835, 0.56224518, 0.30542013, 0.        , 0.42066885,\n",
       "        0.50760404, 0.59842588, 0.56865685, 0.69555954, 0.77806954,\n",
       "        0.5676481 , 0.52548085, 0.59840134, 0.43125517, 0.61227881],\n",
       "       [0.5642635 , 0.69447734, 0.61517096, 0.59035111, 0.29951153,\n",
       "        0.5334832 , 0.61006565, 0.20223945, 0.42066885, 0.        ,\n",
       "        0.60956067, 0.69343663, 0.54457729, 0.59532481, 0.41203271,\n",
       "        0.64833734, 0.58803962, 0.63278659, 0.62074994, 0.61229458],\n",
       "       [0.72084478, 0.82236877, 0.72704985, 0.7094066 , 0.29900017,\n",
       "        0.69657504, 0.66160592, 0.3041799 , 0.50760404, 0.60956067,\n",
       "        0.        , 0.72776225, 0.63414392, 0.71653753, 0.52273257,\n",
       "        0.82655945, 0.67712043, 0.80128903, 0.69316414, 0.70241025],\n",
       "       [0.83275762, 0.84262656, 0.868679  , 0.81513607, 0.29502301,\n",
       "        0.82440051, 0.82898219, 0.36887461, 0.59842588, 0.69343663,\n",
       "        0.72776225, 0.        , 0.80177743, 0.85477927, 0.69855669,\n",
       "        0.85818639, 0.83366285, 0.88641953, 0.70880203, 0.85140201],\n",
       "       [0.82859927, 0.74974163, 0.83235071, 0.79041385, 0.34952706,\n",
       "        0.75579566, 0.76512541, 0.50864481, 0.56865685, 0.54457729,\n",
       "        0.63414392, 0.80177743, 0.        , 0.87541815, 0.69919824,\n",
       "        0.83034496, 0.75705652, 0.834924  , 0.68589116, 0.82911349],\n",
       "       [0.83512511, 0.82015941, 0.87028904, 0.81721913, 0.3253073 ,\n",
       "        0.80076089, 0.82510723, 0.47343227, 0.69555954, 0.59532481,\n",
       "        0.71653753, 0.85477927, 0.87541815, 0.        , 0.74935898,\n",
       "        0.86141312, 0.80349288, 0.91790938, 0.74561805, 0.8563988 ],\n",
       "       [0.6827445 , 0.61985838, 0.7614577 , 0.68196825, 0.27331664,\n",
       "        0.70975301, 0.65551782, 0.43409364, 0.77806954, 0.41203271,\n",
       "        0.52273257, 0.69855669, 0.69919824, 0.74935898, 0.        ,\n",
       "        0.64123908, 0.59802673, 0.72969755, 0.58247453, 0.7572363 ],\n",
       "       [0.78746461, 0.87639089, 0.81306136, 0.78477995, 0.30815094,\n",
       "        0.74460742, 0.76307283, 0.38942525, 0.5676481 , 0.64833734,\n",
       "        0.82655945, 0.85818639, 0.83034496, 0.86141312, 0.64123908,\n",
       "        0.        , 0.80368805, 0.90511851, 0.76332509, 0.81727573],\n",
       "       [0.82302333, 0.74758338, 0.7882218 , 0.74355758, 0.36094444,\n",
       "        0.73326847, 0.79245107, 0.38121504, 0.52548085, 0.58803962,\n",
       "        0.67712043, 0.83366285, 0.75705652, 0.80349288, 0.59802673,\n",
       "        0.80368805, 0.        , 0.82970112, 0.67528019, 0.75865457],\n",
       "       [0.84912189, 0.86192588, 0.87345995, 0.84119817, 0.34883604,\n",
       "        0.82712811, 0.84210476, 0.45325538, 0.59840134, 0.63278659,\n",
       "        0.80128903, 0.88641953, 0.834924  , 0.91790938, 0.72969755,\n",
       "        0.90511851, 0.82970112, 0.        , 0.8351421 , 0.87970378],\n",
       "       [0.7383407 , 0.79602204, 0.76841266, 0.82062508, 0.42790206,\n",
       "        0.66628045, 0.78322904, 0.39882422, 0.43125517, 0.62074994,\n",
       "        0.69316414, 0.70880203, 0.68589116, 0.74561805, 0.58247453,\n",
       "        0.76332509, 0.67528019, 0.8351421 , 0.        , 0.77416746],\n",
       "       [0.89015017, 0.80620878, 0.89918647, 0.88626823, 0.36009734,\n",
       "        0.78061502, 0.84666195, 0.50447945, 0.61227881, 0.61229458,\n",
       "        0.70241025, 0.85140201, 0.82911349, 0.8563988 , 0.7572363 ,\n",
       "        0.81727573, 0.75865457, 0.87970378, 0.77416746, 0.        ]])"
      ]
     },
     "execution_count": 78,
     "metadata": {},
     "output_type": "execute_result"
    }
   ],
   "source": [
    "sim_mat[15][17]\n",
    "sim_mat"
   ]
  },
  {
   "cell_type": "code",
   "execution_count": 57,
   "metadata": {},
   "outputs": [],
   "source": [
    "import matplotlib.pyplot as plt\n",
    "%matplotlib inline\n"
   ]
  },
  {
   "cell_type": "code",
   "execution_count": 58,
   "metadata": {},
   "outputs": [],
   "source": [
    "import networkx as nx\n",
    "\n",
    "nx_graph = nx.from_numpy_array(sim_mat)\n",
    "scores = nx.pagerank(nx_graph)\n"
   ]
  },
  {
   "cell_type": "code",
   "execution_count": 61,
   "metadata": {},
   "outputs": [
    {
     "name": "stdout",
     "output_type": "stream",
     "text": [
      "\n"
     ]
    }
   ],
   "source": [
    "print(nx_graph)"
   ]
  },
  {
   "cell_type": "code",
   "execution_count": 62,
   "metadata": {},
   "outputs": [
    {
     "name": "stdout",
     "output_type": "stream",
     "text": [
      "20\n"
     ]
    }
   ],
   "source": [
    "print(len(scores))\n"
   ]
  },
  {
   "cell_type": "code",
   "execution_count": 63,
   "metadata": {},
   "outputs": [
    {
     "data": {
      "text/plain": [
       "{0: 0.05510769650888121,\n",
       " 1: 0.05396530006183286,\n",
       " 2: 0.056991095914136744,\n",
       " 3: 0.05478274994039148,\n",
       " 4: 0.02983634510374607,\n",
       " 5: 0.05182676768387081,\n",
       " 6: 0.054240183234886455,\n",
       " 7: 0.03242414199079087,\n",
       " 8: 0.042249281777298,\n",
       " 9: 0.0422336473795981,\n",
       " 10: 0.04848536670475073,\n",
       " 11: 0.0545921979364666,\n",
       " 12: 0.052823823779423316,\n",
       " 13: 0.05547276848823688,\n",
       " 14: 0.04729844196509034,\n",
       " 15: 0.053937894375810765,\n",
       " 16: 0.051388041149270355,\n",
       " 17: 0.056495233768338426,\n",
       " 18: 0.05040835585802234,\n",
       " 19: 0.05544066637915757}"
      ]
     },
     "execution_count": 63,
     "metadata": {},
     "output_type": "execute_result"
    }
   ],
   "source": [
    "scores\n"
   ]
  },
  {
   "cell_type": "code",
   "execution_count": 64,
   "metadata": {},
   "outputs": [],
   "source": [
    "ranked_sentences = sorted(((scores[i],s) for i,s in enumerate(tokenized_corpus)), reverse=True)\n"
   ]
  },
  {
   "cell_type": "code",
   "execution_count": 65,
   "metadata": {},
   "outputs": [
    {
     "data": {
      "text/plain": [
       "list"
      ]
     },
     "execution_count": 65,
     "metadata": {},
     "output_type": "execute_result"
    }
   ],
   "source": [
    "type(ranked_sentences)\n"
   ]
  },
  {
   "cell_type": "code",
   "execution_count": 66,
   "metadata": {},
   "outputs": [
    {
     "name": "stdout",
     "output_type": "stream",
     "text": [
      "20\n"
     ]
    }
   ],
   "source": [
    "y = len(ranked_sentences)\n",
    "print(y)\n"
   ]
  },
  {
   "cell_type": "code",
   "execution_count": 68,
   "metadata": {},
   "outputs": [
    {
     "name": "stdout",
     "output_type": "stream",
     "text": [
      "Why does the new app round up the account balance rather than show the exact amount now?\n",
      "\n",
      "Now it says “uhoh can’t connect to the server” even though it obviously can since it loads new transactions.\n",
      "\n",
      "I followed the online instructions but the link did not work, tried from inside the account, talked to chat support but she couldn’t figure it out, now I am on the phone AGAIN hoping for a miracle which is unlikely since I am told there are many people having problems with the app\n",
      "\n"
     ]
    }
   ],
   "source": [
    "# Extract top 5 sentences as the summary\n",
    "for i in range(3):\n",
    "    print(ranked_sentences[i][1])\n",
    "    print()"
   ]
  },
  {
   "cell_type": "code",
   "execution_count": 82,
   "metadata": {},
   "outputs": [
    {
     "name": "stdout",
     "output_type": "stream",
     "text": [
      "4\n",
      "0.5\n",
      "82\n",
      "Now it says “uhoh can’t connect to the server” even though it obviously can since it loads new transactions.\n",
      "I am trying to add a transaction, but it says “Unable to connect to server.” Everything else is working fine on my phone.\n",
      "work\n",
      "working\n",
      "great\n"
     ]
    }
   ],
   "source": [
    "from summa import keywords\n",
    "from summa.summarizer import summarize\n",
    "text=\"Used to work great. Now it says “uhoh can’t connect to the server” even though it obviously can since it loads new transactions. Much much slower than before. Can’t see accounts because pressing anywhere in that area automatically loads their new net worth chart. I have only had the app for 2 days, and it is already not working. I am trying to add a transaction, but it says “Unable to connect to server.” Everything else is working fine on my phone.\"\n",
    "\n",
    "\n",
    "#apply logic to have max 2-3 lines, if greater than that, count words and do/2 with max limit 50\n",
    "print(len(tokenizer.tokenize(i)))\n",
    "print((2/len(tokenizer.tokenize(i))))\n",
    "print(len(text.split()))\n",
    "a=summarize(text,words=40)\n",
    "print(a)\n",
    "\n",
    "print(keywords.keywords(text))\n"
   ]
  },
  {
   "cell_type": "code",
   "execution_count": null,
   "metadata": {},
   "outputs": [],
   "source": []
  }
 ],
 "metadata": {
  "kernelspec": {
   "display_name": "Python 3",
   "language": "python",
   "name": "python3"
  },
  "language_info": {
   "codemirror_mode": {
    "name": "ipython",
    "version": 3
   },
   "file_extension": ".py",
   "mimetype": "text/x-python",
   "name": "python",
   "nbconvert_exporter": "python",
   "pygments_lexer": "ipython3",
   "version": "3.7.7"
  }
 },
 "nbformat": 4,
 "nbformat_minor": 4
}
